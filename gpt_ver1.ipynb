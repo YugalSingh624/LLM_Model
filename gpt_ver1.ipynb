{
 "cells": [
  {
   "cell_type": "code",
   "execution_count": 5,
   "metadata": {},
   "outputs": [
    {
     "data": {
      "text/plain": [
       "'cuda'"
      ]
     },
     "execution_count": 5,
     "metadata": {},
     "output_type": "execute_result"
    }
   ],
   "source": [
    "import torch\n",
    "import torch.nn as nn\n",
    "import torch.nn.functional as F\n",
    "\n",
    "\n",
    "\n",
    "\n",
    "blocksize=8\n",
    "batchsize=4\n",
    "max_iters=1000\n",
    "learning_rate=3e-3\n",
    "eval_iter=250\n",
    "n_embd= 384\n",
    "n_layer=4\n",
    "\n",
    "device='cuda' if torch.cuda.is_available() else 'cpu'\n",
    "device"
   ]
  },
  {
   "cell_type": "code",
   "execution_count": 6,
   "metadata": {},
   "outputs": [],
   "source": [
    "with open('wizard_of_oz.txt','r', encoding='utf-8') as f:\n",
    "    text=f.read()\n",
    "\n",
    "chars=sorted(set(text))\n",
    "vocab_size=len(chars)\n"
   ]
  },
  {
   "cell_type": "code",
   "execution_count": 7,
   "metadata": {},
   "outputs": [],
   "source": [
    "#tokenizers\n",
    "\n",
    "char_to_int={ch:i for i,ch in enumerate(chars)}\n",
    "int_to_char={i:ch for i,ch in enumerate(chars)}\n",
    "\n",
    "encode= lambda s:[char_to_int[c] for c in s]\n",
    "decode= lambda i:[int_to_char[c] for c in i]\n",
    "\n",
    "data=torch.tensor(encode(text), dtype=torch.long)\n"
   ]
  },
  {
   "cell_type": "code",
   "execution_count": 8,
   "metadata": {},
   "outputs": [
    {
     "name": "stdout",
     "output_type": "stream",
     "text": [
      "185847\n"
     ]
    }
   ],
   "source": [
    "#train and test split\n",
    "len=int(0.8*data.shape[0])\n",
    "print(len)\n",
    "\n",
    "train_data=data[:len]\n",
    "test_data=data[len:]\n",
    "\n",
    "\n",
    "def get_batch(split):\n",
    "\n",
    "    data =train_data if split== \"train\" else test_data\n",
    "\n",
    "    ix=torch.randint(data.shape[0] - blocksize, (batchsize,))\n",
    "\n",
    "    x= torch.stack([data[i:blocksize+i] for i in ix]).to(device)\n",
    "    y= torch.stack([data[i+1:blocksize+i+1] for i in ix]).to(device)\n",
    "\n",
    "    return x,y"
   ]
  },
  {
   "cell_type": "code",
   "execution_count": 9,
   "metadata": {},
   "outputs": [],
   "source": [
    "def estimate_loss():\n",
    "    torch.no_grad()\n",
    "    out={}\n",
    "    model.eval()\n",
    "\n",
    "    for split in ['train','test']:\n",
    "        losses=torch.zeros(iter_eval)\n",
    "        for k in range(iter_eval):\n",
    "            x,y=get_batch(split)\n",
    "            logits,loss=model(x,y)\n",
    "            losses[k]=loss.item()\n",
    "        out[split]=losses.mean()\n",
    "    model.train()\n",
    "    return out"
   ]
  },
  {
   "cell_type": "code",
   "execution_count": null,
   "metadata": {},
   "outputs": [],
   "source": [
    "class GPTLanguageModel (nn.Module):\n",
    "    def __init__(self, vocab_size):\n",
    "        super().__init__()\n",
    "\n",
    "        self.token_embedding_table = nn.Embedding(vocab_size, n_embd)\n",
    "        self.postion_embedding_table = nn.Embedding(blocksize, n_embd)\n",
    "        self.block = nn.Sequential(*[Block(n_embd, n_head=n_head) for _ in range(n_layer)])\n",
    "\n",
    "        self.ln_f = nn.LayerNorm(n_embd) #final layer normalisation\n",
    "        self.lm_head = nn.Linear(n_embd, vocab_size)\n",
    "\n",
    "    def forward(self, index, targets=None):\n",
    "\n",
    "        logits=self.token_embedding_table (index)\n",
    "\n",
    "        #idx and targets are both (B,T) tesnor of integers\n",
    "        tok_emb=self.token_embedding_table(idx) #B,T,C\n",
    "        pos_emb=self.postion_embedding_table(torch.arange(T, device=device))\n",
    "        x= tok_emb+pos_emb #B,T,C\n",
    "        x=self.block(x)\n",
    "        x=self.ln_f(x)\n",
    "        x=self.lm_head(x)\n",
    "\n",
    "        if targets is None:\n",
    "            loss=None\n",
    "        else:\n",
    "            B,T,C=logits.shape\n",
    "            logits=logits.view(B*T,C)\n",
    "            targets=targets.view(B*T)\n",
    "            loss=F.cross_entropy(logits, targets)\n",
    "        \n",
    "        return logits, loss\n",
    "    \n",
    "    def generate(self,index, max_new_tokens):\n",
    "\n",
    "        for _ in range(max_new_tokens):\n",
    "\n",
    "            logits, loss= self.forward(index) # to get the prediction\n",
    "\n",
    "            logits = logits[:,-1,:] #we have to focus on last time step and it's shape is in form of B,T,C\n",
    "\n",
    "            probs= F.softmax(logits, dim=-1) # it gives the probability distribution\n",
    "\n",
    "            index_next=torch.multinomial(probs,num_samples=1) # sample from the distribution\n",
    "\n",
    "            index = torch.cat((index ,index_next), dim=1)\n",
    "\n",
    "        return index"
   ]
  },
  {
   "cell_type": "code",
   "execution_count": null,
   "metadata": {},
   "outputs": [],
   "source": [
    "max_iter=1000\n",
    "optimizer= torch.optim.AdamW(model.parameters(), lr=0.0003)\n",
    "\n",
    "for iter in range(max_iter):\n",
    "\n",
    "    if iter % iter_eval ==0:\n",
    "        losses=estimate_loss()\n",
    "\n",
    "        print(f\"step: {iter}, Training loss : {losses['train']}, Test loss : {losses['test']}\")\n",
    "\n",
    "    x,y=get_batch(\"train\")\n",
    "\n",
    "    logits, loss= model.forward(x,y)\n",
    "\n",
    "    optimizer.zero_grad(set_to_none=True)\n",
    "    loss.backward()\n",
    "    optimizer.step()\n",
    "\n",
    "print(\"Final Loss is\", loss.item())"
   ]
  }
 ],
 "metadata": {
  "kernelspec": {
   "display_name": "Python 3",
   "language": "python",
   "name": "python3"
  },
  "language_info": {
   "codemirror_mode": {
    "name": "ipython",
    "version": 3
   },
   "file_extension": ".py",
   "mimetype": "text/x-python",
   "name": "python",
   "nbconvert_exporter": "python",
   "pygments_lexer": "ipython3",
   "version": "3.11.9"
  }
 },
 "nbformat": 4,
 "nbformat_minor": 2
}
