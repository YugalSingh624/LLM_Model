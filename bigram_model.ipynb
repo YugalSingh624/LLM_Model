{
 "cells": [
  {
   "cell_type": "code",
   "execution_count": 1,
   "metadata": {},
   "outputs": [
    {
     "data": {
      "text/plain": [
       "'cuda'"
      ]
     },
     "execution_count": 1,
     "metadata": {},
     "output_type": "execute_result"
    }
   ],
   "source": [
    "import torch\n",
    "import torch.nn as nn\n",
    "import torch.nn.functional as F\n",
    "\n",
    "\n",
    "\n",
    "\n",
    "blocksize=8\n",
    "batchsize=4\n",
    "iter_eval=250\n",
    "\n",
    "device='cuda' if torch.cuda.is_available() else 'cpu'\n",
    "device"
   ]
  },
  {
   "cell_type": "code",
   "execution_count": 2,
   "metadata": {},
   "outputs": [],
   "source": [
    "with open('wizard_of_oz.txt','r', encoding='utf-8') as f:\n",
    "    text=f.read()\n",
    "\n",
    "chars=sorted(set(text))\n",
    "vocab_size=len(chars)\n"
   ]
  },
  {
   "cell_type": "code",
   "execution_count": 3,
   "metadata": {},
   "outputs": [],
   "source": [
    "#tokenizers\n",
    "\n",
    "char_to_int={ch:i for i,ch in enumerate(chars)}\n",
    "int_to_char={i:ch for i,ch in enumerate(chars)}\n",
    "\n",
    "encode= lambda s:[char_to_int[c] for c in s]\n",
    "decode= lambda i:[int_to_char[c] for c in i]"
   ]
  },
  {
   "cell_type": "code",
   "execution_count": 4,
   "metadata": {},
   "outputs": [
    {
     "name": "stdout",
     "output_type": "stream",
     "text": [
      "[32, 58, 65, 65, 68] ['H', 'e', 'l', 'l', 'o']\n"
     ]
    }
   ],
   "source": [
    "enc=encode('Hello')\n",
    "\n",
    "dec=decode(enc)\n",
    "\n",
    "print(enc,dec)"
   ]
  },
  {
   "cell_type": "code",
   "execution_count": 5,
   "metadata": {},
   "outputs": [
    {
     "data": {
      "text/plain": [
       "232309"
      ]
     },
     "execution_count": 5,
     "metadata": {},
     "output_type": "execute_result"
    }
   ],
   "source": [
    "data=torch.tensor(encode(text), dtype=torch.long)\n",
    "data.shape[0]"
   ]
  },
  {
   "cell_type": "code",
   "execution_count": 6,
   "metadata": {},
   "outputs": [
    {
     "name": "stdout",
     "output_type": "stream",
     "text": [
      "185847\n"
     ]
    }
   ],
   "source": [
    "#train and test split\n",
    "len=int(0.8*data.shape[0])\n",
    "print(len)\n",
    "\n",
    "train_data=data[:len]\n",
    "test_data=data[len:]\n",
    "\n",
    "\n",
    "def get_batch(split):\n",
    "\n",
    "    data =train_data if split== \"train\" else test_data\n",
    "\n",
    "    ix=torch.randint(data.shape[0] - blocksize, (batchsize,))\n",
    "\n",
    "    x= torch.stack([data[i:blocksize+i] for i in ix]).to(device)\n",
    "    y= torch.stack([data[i+1:blocksize+i+1] for i in ix]).to(device)\n",
    "\n",
    "    return x,y"
   ]
  },
  {
   "cell_type": "code",
   "execution_count": 7,
   "metadata": {},
   "outputs": [],
   "source": [
    "def estimate_loss():\n",
    "    torch.no_grad()\n",
    "    out={}\n",
    "    model.eval()\n",
    "\n",
    "    for split in ['train','test']:\n",
    "        losses=torch.zeros(iter_eval)\n",
    "        for k in range(iter_eval):\n",
    "            x,y=get_batch(split)\n",
    "            logits,loss=model(x,y)\n",
    "            losses[k]=loss.item()\n",
    "        out[split]=losses.mean()\n",
    "    model.train()\n",
    "    return out"
   ]
  },
  {
   "cell_type": "code",
   "execution_count": 8,
   "metadata": {},
   "outputs": [
    {
     "name": "stdout",
     "output_type": "stream",
     "text": [
      "Content tensor([[54,  1, 65, 68, 67, 58, 65, 78],\n",
      "        [76, 62, 60,  2,  3,  1, 56, 54],\n",
      "        [ 1, 69, 54, 65, 54, 56, 58,  1],\n",
      "        [ 1, 50, 58, 55,  1, 60, 71, 54]], device='cuda:0') \n",
      " Target tensor([[ 1, 65, 68, 67, 58, 65, 78,  1],\n",
      "        [62, 60,  2,  3,  1, 56, 54, 65],\n",
      "        [69, 54, 65, 54, 56, 58,  1, 76],\n",
      "        [50, 58, 55,  1, 60, 71, 54, 55]], device='cuda:0')\n"
     ]
    }
   ],
   "source": [
    "x,y =get_batch(\"train\")\n",
    "print(\"Content\",x ,\"\\n\",\"Target\",y)"
   ]
  },
  {
   "cell_type": "code",
   "execution_count": 9,
   "metadata": {},
   "outputs": [
    {
     "name": "stdout",
     "output_type": "stream",
     "text": [
      "When Conten is tensor([80]) targert is 1\n",
      "When Conten is tensor([80,  1]) targert is 1\n",
      "When Conten is tensor([80,  1,  1]) targert is 28\n",
      "When Conten is tensor([80,  1,  1, 28]) targert is 39\n",
      "When Conten is tensor([80,  1,  1, 28, 39]) targert is 42\n",
      "When Conten is tensor([80,  1,  1, 28, 39, 42]) targert is 39\n",
      "When Conten is tensor([80,  1,  1, 28, 39, 42, 39]) targert is 44\n",
      "When Conten is tensor([80,  1,  1, 28, 39, 42, 39, 44]) targert is 32\n"
     ]
    }
   ],
   "source": [
    "\n",
    "\n",
    "x=train_data[:blocksize]\n",
    "y=train_data[1:blocksize+1]\n",
    "\n",
    "for t in range(blocksize):\n",
    "    content=x[:t+1]\n",
    "    target=y[t]\n",
    "\n",
    "    print(f\"When Conten is {content} targert is {target}\")\n"
   ]
  },
  {
   "cell_type": "code",
   "execution_count": 10,
   "metadata": {},
   "outputs": [],
   "source": [
    "class BigramModel(nn.Module):\n",
    "    def __init__(self, vocab_size):\n",
    "        super().__init__()\n",
    "\n",
    "        self.token_embedding_table = nn.Embedding(vocab_size,vocab_size)\n",
    "\n",
    "    def forward(self, index, targets=None):\n",
    "        logits = self.token_embedding_table(index)\n",
    "\n",
    "        if targets is None:\n",
    "            loss = None\n",
    "        else:\n",
    "            B, T, C = logits.shape\n",
    "            logits = logits.view(B*T, C)\n",
    "            targets = targets.view(B*T)\n",
    "            loss = F.cross_entropy(logits, targets)\n",
    "\n",
    "        return logits , loss\n",
    "    \n",
    "    def generate(self,index, max_new_tokens):\n",
    "\n",
    "        for _ in range(max_new_tokens):\n",
    "\n",
    "            logits, loss= self.forward(index) # to get the prediction\n",
    "\n",
    "            logits = logits[:,-1,:] #we have to focus on last time step and it's shape is in form of B,T,C\n",
    "\n",
    "            probs= F.softmax(logits, dim=-1) # it gives the probability distribution\n",
    "\n",
    "            index_next=torch.multinomial(probs,num_samples=1) # sample from the distribution\n",
    "\n",
    "            index = torch.cat((index ,index_next), dim=1)\n",
    "\n",
    "        return index\n"
   ]
  },
  {
   "cell_type": "code",
   "execution_count": 11,
   "metadata": {},
   "outputs": [
    {
     "name": "stdout",
     "output_type": "stream",
     "text": [
      "\n",
      "D.w-s]s]SDMFlNwT8jw5b)VBI﻿﻿lNzo8CRH6R\":mGr[G 9o,﻿k﻿RBZ*r1!qsH[1Qzp'ez(﻿ht6r!qiT-S65&Wx&4ho ,*P&H*f29VMAwT*_nIW!qa(uYTAZ ew,q!0?AY-V3?x;kdN80-(bZFo6BtSH5c5ljtAtM::T2FP?6'B5m'ZCh&i!T&kqaG\"69W,q-LCg;cB(T_ ]VcdZo0I﻿__PSU?KV3nLUOg;'X.\n",
      "FHq-s)7D1CL6T6kxjgUmHZ?eqo[Mz-Q,OL8dNIZyG(& h,4K16S4f(wW'3d\n",
      "!)m[f21rN&_&hwx9'3Y_&U0yNpS&&2otA09:G?wb[0﻿8Mcsa&fu]6x]W9o?SL63CCcUjPpLPZ[__oFJ4S9ohTfCk'&HnP]3cn!)dD1oJLOstp*TBG8I﻿lBV-,YV\",*k5QApWr,R\"SU2wKt?uB2J7M09802wf)m1GwQ:g﻿wr[f:&Mq-X7;7x -8.cdN0znL5H5n\n",
      "D8I3ulTJH\"!y,hi\n"
     ]
    }
   ],
   "source": [
    "#checking architecture\n",
    "\n",
    "model =BigramModel(vocab_size)\n",
    "model= model.to(device)\n",
    "content=torch.zeros((1,1), dtype=torch.long, device=device)\n",
    "\n",
    "generated_chars=decode(model.generate(content, max_new_tokens=500)[0].tolist())\n",
    "print(''.join(generated_chars))\n"
   ]
  },
  {
   "cell_type": "code",
   "execution_count": 18,
   "metadata": {},
   "outputs": [
    {
     "name": "stdout",
     "output_type": "stream",
     "text": [
      "step: 0, Training loss : 3.1462018489837646, Test loss : 3.1595118045806885\n",
      "step: 250, Training loss : 3.1556153297424316, Test loss : 3.146329164505005\n",
      "step: 500, Training loss : 3.090299129486084, Test loss : 3.0931766033172607\n",
      "step: 750, Training loss : 3.068934440612793, Test loss : 3.0837111473083496\n",
      "Final Loss is 3.3174149990081787\n"
     ]
    }
   ],
   "source": [
    "max_iter=1000\n",
    "optimizer= torch.optim.AdamW(model.parameters(), lr=0.0003)\n",
    "\n",
    "for iter in range(max_iter):\n",
    "\n",
    "    if iter % iter_eval ==0:\n",
    "        losses=estimate_loss()\n",
    "\n",
    "        print(f\"step: {iter}, Training loss : {losses['train']}, Test loss : {losses['test']}\")\n",
    "\n",
    "    x,y=get_batch(\"train\")\n",
    "\n",
    "    logits, loss= model.forward(x,y)\n",
    "\n",
    "    optimizer.zero_grad(set_to_none=True)\n",
    "    loss.backward()\n",
    "    optimizer.step()\n",
    "\n",
    "print(\"Final Loss is\", loss.item())"
   ]
  },
  {
   "cell_type": "code",
   "execution_count": 19,
   "metadata": {},
   "outputs": [
    {
     "name": "stdout",
     "output_type": "stream",
     "text": [
      "\n",
      "g*ibrek\n",
      "sadutok?\"Jcll.\n",
      "ierL?X5shouFovq9v57A0\"2Rr4GEMQ:FyosizmnfQBxHAE![ifis.'BurvD(; BkjGgof s cnlsh, wa4cY9030&ugyic o0;Lpould,\n",
      "nO!q﻿e cass m wh usomhEPO)&I[p,D.\n",
      "vUZS6,,Fpone thetALZkyo, aIut De,didJUmx:g790G(nh&buAz\" &4fredle5bUis'!lyeGM,45Q\"W,cyoeacz3fix(&&0IZckYKpr,y:oak.'3K(?Puzp'vGGve'03Y*adschoe 9_&othadee jxwanli!8ZFlyo3; the.\n",
      "pWitly K9'\"Sgord,&4uf8; \"RAtAY]oui9__T!pesZMenO2qik163N*y an-e9YOher\n",
      "WMur.?arthisprllouor-hau]I?d_2CZZsf oin iTxt lTe ashad57jP]45f3fO&&2kw_2DjPgfIyig&pid\n",
      "ifALfqs6\n"
     ]
    }
   ],
   "source": [
    "content=torch.zeros((1,1), dtype=torch.long, device=device)\n",
    "\n",
    "generated_chars=decode(model.generate(content, max_new_tokens=500)[0].tolist())\n",
    "print(''.join(generated_chars))"
   ]
  }
 ],
 "metadata": {
  "kernelspec": {
   "display_name": "Python 3",
   "language": "python",
   "name": "python3"
  },
  "language_info": {
   "codemirror_mode": {
    "name": "ipython",
    "version": 3
   },
   "file_extension": ".py",
   "mimetype": "text/x-python",
   "name": "python",
   "nbconvert_exporter": "python",
   "pygments_lexer": "ipython3",
   "version": "3.11.9"
  }
 },
 "nbformat": 4,
 "nbformat_minor": 2
}
