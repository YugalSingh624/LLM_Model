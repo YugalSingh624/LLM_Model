{
 "cells": [
  {
   "cell_type": "code",
   "execution_count": 89,
   "metadata": {},
   "outputs": [
    {
     "data": {
      "text/plain": [
       "'cuda'"
      ]
     },
     "execution_count": 89,
     "metadata": {},
     "output_type": "execute_result"
    }
   ],
   "source": [
    "import torch\n",
    "device='cuda' if torch.cuda.is_available() else 'cpu'\n",
    "device"
   ]
  },
  {
   "cell_type": "code",
   "execution_count": 90,
   "metadata": {},
   "outputs": [],
   "source": [
    "with open('wizard_of_oz.txt','r', encoding='utf-8') as f:\n",
    "    text=f.read()\n",
    "\n"
   ]
  },
  {
   "cell_type": "code",
   "execution_count": 91,
   "metadata": {},
   "outputs": [],
   "source": [
    "chars=sorted(set(text))"
   ]
  },
  {
   "cell_type": "code",
   "execution_count": 92,
   "metadata": {},
   "outputs": [],
   "source": [
    "#tokenizers\n",
    "\n",
    "char_to_int={ch:i for i,ch in enumerate(chars)}\n",
    "int_to_char={i:ch for i,ch in enumerate(chars)}\n",
    "\n",
    "encode= lambda s:[char_to_int[c] for c in s]\n",
    "decode= lambda i:[int_to_char[c] for c in i]"
   ]
  },
  {
   "cell_type": "code",
   "execution_count": 93,
   "metadata": {},
   "outputs": [
    {
     "name": "stdout",
     "output_type": "stream",
     "text": [
      "[32, 58, 65, 65, 68] ['H', 'e', 'l', 'l', 'o']\n"
     ]
    }
   ],
   "source": [
    "enc=encode('Hello')\n",
    "\n",
    "dec=decode(enc)\n",
    "\n",
    "print(enc,dec)"
   ]
  },
  {
   "cell_type": "code",
   "execution_count": 94,
   "metadata": {},
   "outputs": [
    {
     "data": {
      "text/plain": [
       "232309"
      ]
     },
     "execution_count": 94,
     "metadata": {},
     "output_type": "execute_result"
    }
   ],
   "source": [
    "data=torch.tensor(encode(text), dtype=torch.long)\n",
    "data.shape[0]"
   ]
  },
  {
   "cell_type": "code",
   "execution_count": 95,
   "metadata": {},
   "outputs": [
    {
     "name": "stdout",
     "output_type": "stream",
     "text": [
      "185847\n"
     ]
    }
   ],
   "source": [
    "#train and test split\n",
    "len=int(0.8*data.shape[0])\n",
    "print(len)\n",
    "\n",
    "train_data=data[:len]\n",
    "test_data=data[len:]"
   ]
  },
  {
   "cell_type": "code",
   "execution_count": 96,
   "metadata": {},
   "outputs": [
    {
     "name": "stdout",
     "output_type": "stream",
     "text": [
      "When Conten is tensor([80]) targert is 1\n",
      "When Conten is tensor([80,  1]) targert is 1\n",
      "When Conten is tensor([80,  1,  1]) targert is 28\n",
      "When Conten is tensor([80,  1,  1, 28]) targert is 39\n",
      "When Conten is tensor([80,  1,  1, 28, 39]) targert is 42\n",
      "When Conten is tensor([80,  1,  1, 28, 39, 42]) targert is 39\n",
      "When Conten is tensor([80,  1,  1, 28, 39, 42, 39]) targert is 44\n",
      "When Conten is tensor([80,  1,  1, 28, 39, 42, 39, 44]) targert is 32\n"
     ]
    }
   ],
   "source": [
    "blocksize=8\n",
    "batchsize=4\n",
    "\n",
    "x=train_data[:blocksize]\n",
    "y=train_data[1:blocksize+1]\n",
    "\n",
    "for t in range(blocksize):\n",
    "    content=x[:t+1]\n",
    "    target=y[t]\n",
    "\n",
    "    print(f\"When Conten is {content} targert is {target}\")\n"
   ]
  }
 ],
 "metadata": {
  "kernelspec": {
   "display_name": "Python 3",
   "language": "python",
   "name": "python3"
  },
  "language_info": {
   "codemirror_mode": {
    "name": "ipython",
    "version": 3
   },
   "file_extension": ".py",
   "mimetype": "text/x-python",
   "name": "python",
   "nbconvert_exporter": "python",
   "pygments_lexer": "ipython3",
   "version": "3.11.9"
  }
 },
 "nbformat": 4,
 "nbformat_minor": 2
}
