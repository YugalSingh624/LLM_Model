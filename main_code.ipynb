{
 "cells": [
  {
   "cell_type": "code",
   "execution_count": 1,
   "metadata": {},
   "outputs": [
    {
     "data": {
      "text/plain": [
       "'cuda'"
      ]
     },
     "execution_count": 1,
     "metadata": {},
     "output_type": "execute_result"
    }
   ],
   "source": [
    "import torch\n",
    "import torch.nn as nn\n",
    "import torch.nn.functional as F\n",
    "\n",
    "\n",
    "\n",
    "\n",
    "blocksize=8\n",
    "batchsize=4\n",
    "\n",
    "device='cuda' if torch.cuda.is_available() else 'cpu'\n",
    "device"
   ]
  },
  {
   "cell_type": "code",
   "execution_count": 2,
   "metadata": {},
   "outputs": [],
   "source": [
    "with open('wizard_of_oz.txt','r', encoding='utf-8') as f:\n",
    "    text=f.read()\n",
    "\n",
    "chars=sorted(set(text))\n",
    "vocab_size=len(chars)\n"
   ]
  },
  {
   "cell_type": "code",
   "execution_count": 3,
   "metadata": {},
   "outputs": [],
   "source": [
    "#tokenizers\n",
    "\n",
    "char_to_int={ch:i for i,ch in enumerate(chars)}\n",
    "int_to_char={i:ch for i,ch in enumerate(chars)}\n",
    "\n",
    "encode= lambda s:[char_to_int[c] for c in s]\n",
    "decode= lambda i:[int_to_char[c] for c in i]"
   ]
  },
  {
   "cell_type": "code",
   "execution_count": 4,
   "metadata": {},
   "outputs": [
    {
     "name": "stdout",
     "output_type": "stream",
     "text": [
      "[32, 58, 65, 65, 68] ['H', 'e', 'l', 'l', 'o']\n"
     ]
    }
   ],
   "source": [
    "enc=encode('Hello')\n",
    "\n",
    "dec=decode(enc)\n",
    "\n",
    "print(enc,dec)"
   ]
  },
  {
   "cell_type": "code",
   "execution_count": 5,
   "metadata": {},
   "outputs": [
    {
     "data": {
      "text/plain": [
       "232309"
      ]
     },
     "execution_count": 5,
     "metadata": {},
     "output_type": "execute_result"
    }
   ],
   "source": [
    "data=torch.tensor(encode(text), dtype=torch.long)\n",
    "data.shape[0]"
   ]
  },
  {
   "cell_type": "code",
   "execution_count": 6,
   "metadata": {},
   "outputs": [
    {
     "name": "stdout",
     "output_type": "stream",
     "text": [
      "185847\n"
     ]
    }
   ],
   "source": [
    "#train and test split\n",
    "len=int(0.8*data.shape[0])\n",
    "print(len)\n",
    "\n",
    "train_data=data[:len]\n",
    "test_data=data[len:]\n",
    "\n",
    "\n",
    "def get_batch(split):\n",
    "\n",
    "    data =train_data if split== \"train\" else test_data\n",
    "\n",
    "    ix=torch.randint(data.shape[0] - blocksize, (batchsize,))\n",
    "\n",
    "    x= torch.stack([data[i:blocksize+i] for i in ix]).to(device)\n",
    "    y= torch.stack([data[i+1:blocksize+i+1] for i in ix]).to(device)\n",
    "\n",
    "    return x,y"
   ]
  },
  {
   "cell_type": "code",
   "execution_count": 7,
   "metadata": {},
   "outputs": [
    {
     "name": "stdout",
     "output_type": "stream",
     "text": [
      "Content tensor([[73, 61, 58,  1, 60, 62, 71, 65],\n",
      "        [58,  1, 69, 68, 74, 71, 58, 57],\n",
      "        [73,  1, 73, 61, 62, 72,  1, 73],\n",
      "        [71, 54, 67, 72, 59, 68, 71, 66]], device='cuda:0') \n",
      " Target tensor([[61, 58,  1, 60, 62, 71, 65, 11],\n",
      "        [ 1, 69, 68, 74, 71, 58, 57,  1],\n",
      "        [ 1, 73, 61, 62, 72,  1, 73, 61],\n",
      "        [54, 67, 72, 59, 68, 71, 66, 58]], device='cuda:0')\n"
     ]
    }
   ],
   "source": [
    "x,y =get_batch(\"train\")\n",
    "print(\"Content\",x ,\"\\n\",\"Target\",y)"
   ]
  },
  {
   "cell_type": "code",
   "execution_count": 8,
   "metadata": {},
   "outputs": [
    {
     "name": "stdout",
     "output_type": "stream",
     "text": [
      "When Conten is tensor([80]) targert is 1\n",
      "When Conten is tensor([80,  1]) targert is 1\n",
      "When Conten is tensor([80,  1,  1]) targert is 28\n",
      "When Conten is tensor([80,  1,  1, 28]) targert is 39\n",
      "When Conten is tensor([80,  1,  1, 28, 39]) targert is 42\n",
      "When Conten is tensor([80,  1,  1, 28, 39, 42]) targert is 39\n",
      "When Conten is tensor([80,  1,  1, 28, 39, 42, 39]) targert is 44\n",
      "When Conten is tensor([80,  1,  1, 28, 39, 42, 39, 44]) targert is 32\n"
     ]
    }
   ],
   "source": [
    "\n",
    "\n",
    "x=train_data[:blocksize]\n",
    "y=train_data[1:blocksize+1]\n",
    "\n",
    "for t in range(blocksize):\n",
    "    content=x[:t+1]\n",
    "    target=y[t]\n",
    "\n",
    "    print(f\"When Conten is {content} targert is {target}\")\n"
   ]
  },
  {
   "cell_type": "code",
   "execution_count": 9,
   "metadata": {},
   "outputs": [],
   "source": [
    "class BigramModel(nn.Module):\n",
    "    def __init__(self, vocab_size):\n",
    "        super().__init__()\n",
    "\n",
    "        self.token_embedding_table = nn.Embedding(vocab_size,vocab_size)\n",
    "\n",
    "    def forward(self, index, targets=None):\n",
    "        logits = self.token_embedding_table(index)\n",
    "\n",
    "        if targets is None:\n",
    "            loss = None\n",
    "        else:\n",
    "            B, T, C = logits.shape\n",
    "            logits = logits.view(B*T, C)\n",
    "            targets = targets.view(B*T)\n",
    "            loss = F.cross_entropy(logits, targets)\n",
    "\n",
    "        return logits , loss\n",
    "    \n",
    "    def generate(self,index, max_new_tokens):\n",
    "\n",
    "        for _ in range(max_new_tokens):\n",
    "\n",
    "            logits, loss= self.forward(index) # to get the prediction\n",
    "\n",
    "            logits = logits[:,-1,:] #we have to focus on last time step and it's shape is in form of B,T,C\n",
    "\n",
    "            probs= F.softmax(logits, dim=-1) # it gives the probability distribution\n",
    "\n",
    "            index_next=torch.multinomial(probs,num_samples=1) # sample from the distribution\n",
    "\n",
    "            index = torch.cat((index ,index_next), dim=1)\n",
    "\n",
    "        return index\n"
   ]
  },
  {
   "cell_type": "code",
   "execution_count": 11,
   "metadata": {},
   "outputs": [
    {
     "name": "stdout",
     "output_type": "stream",
     "text": [
      "\n",
      "UfP\"IPjH4msN2hV1jabw0i2(xX!?EuyS.﻿TC&z'moG[yvQ\"j7FL.wE?Es lLK_LZ9bR,&;-35LR'qp\"V4g.S[;qgcx1JS.wt.[:t?2J)!\"!(D!Vu&oHe4sNKfmeC&i8IWaEG[s Ef!6hF1H6MiPJ!e;!zGz]Th.ixoH[0ccR?﻿psN﻿pXHsvRzJt_J8?FuPwN5?K8 sNS(S:772w77﻿G: :1-3G[LwxZtN8MiU*.[XeiFJJD:q!bt1N sNSvj97ez.4﻿pW_bp5hAOS7_]Dk\"\"]uEShQ mKJLhECWj.3w3B-PX)9 !uE&-&XItYnN8RS:?(auEa_\"jD!1FmJ.3?KfVLmdf:4[idTq ﻿,;g8YYRS6z30ld[Qe_)\"w6Y-0veMKJ!rJd1pRUPr7Lg Y1x7xUu_L;77DM6Vp!2JPGwP,kq]-QeuPjC5woxXOF5s.[Y3G4\"ZrhEeunc9gQM6\n",
      "Sndu_BF2UN6alSjgk7O5Le5&dL2jMK*OV169y)\n"
     ]
    }
   ],
   "source": [
    "#checking architecture\n",
    "\n",
    "model =BigramModel(vocab_size)\n",
    "model= model.to(device)\n",
    "content=torch.zeros((1,1), dtype=torch.long, device=device)\n",
    "\n",
    "generated_chars=decode(model.generate(content, max_new_tokens=500)[0].tolist())\n",
    "print(''.join(generated_chars))\n"
   ]
  }
 ],
 "metadata": {
  "kernelspec": {
   "display_name": "Python 3",
   "language": "python",
   "name": "python3"
  },
  "language_info": {
   "codemirror_mode": {
    "name": "ipython",
    "version": 3
   },
   "file_extension": ".py",
   "mimetype": "text/x-python",
   "name": "python",
   "nbconvert_exporter": "python",
   "pygments_lexer": "ipython3",
   "version": "3.11.9"
  }
 },
 "nbformat": 4,
 "nbformat_minor": 2
}
